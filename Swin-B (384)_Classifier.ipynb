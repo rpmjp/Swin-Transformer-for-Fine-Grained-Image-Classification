{
 "cells": [
  {
   "cell_type": "code",
   "execution_count": 1,
   "id": "a81fe115-dbfe-4f49-94ab-508abee380d0",
   "metadata": {},
   "outputs": [
    {
     "name": "stdout",
     "output_type": "stream",
     "text": [
      "Using device: cuda\n"
     ]
    }
   ],
   "source": [
    "import os\n",
    "import random\n",
    "import torch\n",
    "from torch.utils.data import Dataset, DataLoader\n",
    "from torchvision import transforms\n",
    "from PIL import Image\n",
    "\n",
    "# Set CUDA if available\n",
    "device = torch.device(\"cuda\" if torch.cuda.is_available() else \"cpu\")\n",
    "print(f\"Using device: {device}\")\n"
   ]
  },
  {
   "cell_type": "code",
   "execution_count": 2,
   "id": "48e5202f-67eb-459d-9d13-0f2b7ce30bf0",
   "metadata": {},
   "outputs": [],
   "source": [
    "class OxfordPetsDataset(Dataset):\n",
    "    def __init__(self, root_dir, split='train', mode='classification', transform=None, split_ratio=0.8, seed=42):\n",
    "        assert mode == 'classification', \"Only classification mode is supported here.\"\n",
    "\n",
    "        self.root_dir = root_dir\n",
    "        self.mode = mode\n",
    "        self.split = split\n",
    "\n",
    "        # Get all image base filenames (without extension)\n",
    "        all_files = sorted([f[:-4] for f in os.listdir(os.path.join(root_dir, 'images')) if f.endswith('.jpg')])\n",
    "\n",
    "        # Train/test split\n",
    "        random.seed(seed)\n",
    "        random.shuffle(all_files)\n",
    "        split_idx = int(len(all_files) * split_ratio)\n",
    "        self.image_ids = all_files[:split_idx] if split == 'train' else all_files[split_idx:]\n",
    "\n",
    "        # Class name to index mapping\n",
    "        self.class_names = sorted(list(set([img_id.rsplit('_', 1)[0] for img_id in all_files])))\n",
    "        self.class_to_idx = {cls_name: idx for idx, cls_name in enumerate(self.class_names)}\n",
    "\n",
    "        # Image transforms\n",
    "        if transform is None:\n",
    "            self.transform = transforms.Compose([\n",
    "                transforms.Resize((384, 384)),\n",
    "                transforms.ToTensor(),\n",
    "                transforms.Normalize(mean=[0.485, 0.456, 0.406],\n",
    "                                     std=[0.229, 0.224, 0.225])\n",
    "            ])\n",
    "        else:\n",
    "            self.transform = transform\n",
    "\n",
    "    def __len__(self):\n",
    "        return len(self.image_ids)\n",
    "\n",
    "    def __getitem__(self, idx):\n",
    "        img_id = self.image_ids[idx]\n",
    "        img_path = os.path.join(self.root_dir, 'images', f'{img_id}.jpg')\n",
    "\n",
    "        image = Image.open(img_path).convert('RGB')\n",
    "        class_name = img_id.rsplit('_', 1)[0]\n",
    "        label = self.class_to_idx[class_name]\n",
    "\n",
    "        if self.transform:\n",
    "            image = self.transform(image)\n",
    "\n",
    "        return image, label\n"
   ]
  },
  {
   "cell_type": "code",
   "execution_count": 3,
   "id": "7ba680db-399d-4fe6-9a5c-84823808ca09",
   "metadata": {},
   "outputs": [
    {
     "name": "stdout",
     "output_type": "stream",
     "text": [
      "Image shape: torch.Size([3, 384, 384])\n",
      "Label index: 31, Label name: samoyed\n"
     ]
    }
   ],
   "source": [
    "# Load a single image to test dataset functionality\n",
    "dataset = OxfordPetsDataset(root_dir='.', split='train', mode='classification')\n",
    "image, label = dataset[0]\n",
    "\n",
    "# Show info\n",
    "print(f\"Image shape: {image.shape}\")\n",
    "print(f\"Label index: {label}, Label name: {dataset.class_names[label]}\")\n"
   ]
  },
  {
   "cell_type": "code",
   "execution_count": 4,
   "id": "56f0d671-b952-4e51-8a2a-99174ed19546",
   "metadata": {},
   "outputs": [
    {
     "name": "stdout",
     "output_type": "stream",
     "text": [
      "Train size: 5912, Test size: 1478\n"
     ]
    }
   ],
   "source": [
    "from torch.utils.data import DataLoader\n",
    "\n",
    "# Create train and test datasets\n",
    "train_dataset = OxfordPetsDataset(root_dir='.', split='train', mode='classification')\n",
    "test_dataset = OxfordPetsDataset(root_dir='.', split='test', mode='classification')\n",
    "\n",
    "# Store dataset sizes for throughput calculation\n",
    "train_size = len(train_dataset)\n",
    "test_size = len(test_dataset)\n",
    "print(f\"Train size: {train_size}, Test size: {test_size}\")\n",
    "\n",
    "# DataLoaders\n",
    "train_loader = DataLoader(train_dataset, batch_size=16, shuffle=True, num_workers=0)\n",
    "test_loader = DataLoader(test_dataset, batch_size=16, shuffle=False, num_workers=0)\n"
   ]
  },
  {
   "cell_type": "code",
   "execution_count": 5,
   "id": "168f34bf-7f56-44ff-a980-39932c741a27",
   "metadata": {},
   "outputs": [],
   "source": [
    "import timm\n",
    "import torch.nn as nn\n",
    "\n",
    "# Load pretrained Swin Transformer, adjust for 37 classes\n",
    "model = timm.create_model('swin_base_patch4_window12_384', pretrained=True, num_classes=37)\n",
    "model = model.to(device)  # Ensure it uses CUDA\n"
   ]
  },
  {
   "cell_type": "code",
   "execution_count": 6,
   "id": "e62eff4a-c1cb-4ee3-a286-5c859da3a612",
   "metadata": {},
   "outputs": [],
   "source": [
    "import torch.nn as nn\n",
    "import torch.optim as optim\n",
    "\n",
    "# Loss function\n",
    "criterion = nn.CrossEntropyLoss()\n",
    "\n",
    "# Optimizer\n",
    "optimizer = optim.Adam(model.parameters(), lr=1e-4)\n",
    "\n",
    "# Move loss function to device\n",
    "criterion = criterion.to(device)\n"
   ]
  },
  {
   "cell_type": "code",
   "execution_count": 7,
   "id": "017cb523-7617-4c3a-b80f-014842054f72",
   "metadata": {},
   "outputs": [],
   "source": [
    "from tqdm import tqdm\n",
    "import time\n",
    "import torch\n",
    "\n",
    "def train(model, dataloader, criterion, optimizer, device):\n",
    "    model.train()\n",
    "    running_loss = 0.0\n",
    "    correct = 0\n",
    "    total = 0\n",
    "\n",
    "    start_time = time.time()\n",
    "    loop = tqdm(dataloader, desc=\"Training\", leave=False)\n",
    "    \n",
    "    for images, labels in loop:\n",
    "        images, labels = images.to(device), labels.to(device)\n",
    "\n",
    "        # Forward\n",
    "        outputs = model(images)\n",
    "        loss = criterion(outputs, labels)\n",
    "\n",
    "        # Backward\n",
    "        optimizer.zero_grad()\n",
    "        loss.backward()\n",
    "        optimizer.step()\n",
    "\n",
    "        # Stats\n",
    "        running_loss += loss.item() * images.size(0)\n",
    "        _, predicted = torch.max(outputs.data, 1)\n",
    "        total += labels.size(0)\n",
    "        correct += (predicted == labels).sum().item()\n",
    "\n",
    "        loop.set_postfix(loss=loss.item(), acc=100. * correct / total)\n",
    "\n",
    "    epoch_time = time.time() - start_time\n",
    "    epoch_loss = running_loss / total\n",
    "    epoch_acc = 100. * correct / total\n",
    "    return epoch_loss, epoch_acc, epoch_time\n"
   ]
  },
  {
   "cell_type": "code",
   "execution_count": 8,
   "id": "0ac82a1d-dd70-4bde-bb61-b9de58945703",
   "metadata": {},
   "outputs": [],
   "source": [
    "import time\n",
    "\n",
    "def validate(model, dataloader, criterion, device):\n",
    "    model.eval()\n",
    "    running_loss = 0.0\n",
    "    correct = 0\n",
    "    total = 0\n",
    "\n",
    "    start_time = time.time()\n",
    "\n",
    "    with torch.no_grad():\n",
    "        loop = tqdm(dataloader, desc=\"Validation\", leave=False)\n",
    "        for images, labels in loop:\n",
    "            images, labels = images.to(device), labels.to(device)\n",
    "\n",
    "            outputs = model(images)\n",
    "            loss = criterion(outputs, labels)\n",
    "\n",
    "            running_loss += loss.item() * images.size(0)\n",
    "            _, predicted = torch.max(outputs.data, 1)\n",
    "            total += labels.size(0)\n",
    "            correct += (predicted == labels).sum().item()\n",
    "\n",
    "            loop.set_postfix(loss=loss.item(), acc=100. * correct / total)\n",
    "\n",
    "    epoch_time = time.time() - start_time\n",
    "    epoch_loss = running_loss / total\n",
    "    epoch_acc = 100. * correct / total\n",
    "    return epoch_loss, epoch_acc, epoch_time\n"
   ]
  },
  {
   "cell_type": "code",
   "execution_count": 9,
   "id": "eb9b9c23-c64f-4ab5-9bb3-43c57172c9c6",
   "metadata": {},
   "outputs": [
    {
     "name": "stdout",
     "output_type": "stream",
     "text": [
      "Epoch 1/5\n"
     ]
    },
    {
     "name": "stderr",
     "output_type": "stream",
     "text": [
      "                                                                                  "
     ]
    },
    {
     "name": "stdout",
     "output_type": "stream",
     "text": [
      "Train Loss: 0.5453, Train Acc: 84.12%\n",
      "Val Loss:   0.2521, Val Acc:   91.81%\n",
      "Train Time: 152.18s, Val Time: 13.36s\n",
      "\n",
      "Epoch 2/5\n"
     ]
    },
    {
     "name": "stderr",
     "output_type": "stream",
     "text": [
      "                                                                                   "
     ]
    },
    {
     "name": "stdout",
     "output_type": "stream",
     "text": [
      "Train Loss: 0.1783, Train Acc: 94.20%\n",
      "Val Loss:   0.2053, Val Acc:   93.71%\n",
      "Train Time: 110.90s, Val Time: 13.37s\n",
      "\n",
      "Epoch 3/5\n"
     ]
    },
    {
     "name": "stderr",
     "output_type": "stream",
     "text": [
      "                                                                                   "
     ]
    },
    {
     "name": "stdout",
     "output_type": "stream",
     "text": [
      "Train Loss: 0.1041, Train Acc: 96.68%\n",
      "Val Loss:   0.3278, Val Acc:   91.81%\n",
      "Train Time: 110.95s, Val Time: 13.37s\n",
      "\n",
      "Epoch 4/5\n"
     ]
    },
    {
     "name": "stderr",
     "output_type": "stream",
     "text": [
      "                                                                                   "
     ]
    },
    {
     "name": "stdout",
     "output_type": "stream",
     "text": [
      "Train Loss: 0.1088, Train Acc: 96.60%\n",
      "Val Loss:   0.3270, Val Acc:   91.47%\n",
      "Train Time: 110.97s, Val Time: 13.49s\n",
      "\n",
      "Epoch 5/5\n"
     ]
    },
    {
     "name": "stderr",
     "output_type": "stream",
     "text": [
      "                                                                                    "
     ]
    },
    {
     "name": "stdout",
     "output_type": "stream",
     "text": [
      "Train Loss: 0.0617, Train Acc: 98.07%\n",
      "Val Loss:   0.2512, Val Acc:   93.17%\n",
      "Train Time: 111.03s, Val Time: 13.42s\n",
      "\n"
     ]
    },
    {
     "name": "stderr",
     "output_type": "stream",
     "text": []
    }
   ],
   "source": [
    "# Move model to CUDA (redundant if already done earlier, but safe to repeat)\n",
    "model = model.to(device)\n",
    "\n",
    "num_epochs = 5\n",
    "history = []  # To store (train_loss, train_acc, val_loss, val_acc, train_time, val_time)\n",
    "\n",
    "for epoch in range(num_epochs):\n",
    "    print(f\"Epoch {epoch+1}/{num_epochs}\")\n",
    "    \n",
    "    # Training\n",
    "    train_loss, train_acc, train_time = train(model, train_loader, criterion, optimizer, device)\n",
    "\n",
    "    # Validation\n",
    "    val_loss, val_acc, val_time = validate(model, test_loader, criterion, device)\n",
    "\n",
    "    print(f\"Train Loss: {train_loss:.4f}, Train Acc: {train_acc:.2f}%\")\n",
    "    print(f\"Val Loss:   {val_loss:.4f}, Val Acc:   {val_acc:.2f}%\")\n",
    "    print(f\"Train Time: {train_time:.2f}s, Val Time: {val_time:.2f}s\\n\")\n",
    "\n",
    "    # Save all metrics\n",
    "    history.append((train_loss, train_acc, val_loss, val_acc, train_time, val_time))\n"
   ]
  },
  {
   "cell_type": "code",
   "execution_count": 10,
   "id": "66c8e49c-7ec4-41f8-87a9-85661581b92f",
   "metadata": {},
   "outputs": [
    {
     "name": "stdout",
     "output_type": "stream",
     "text": [
      "Model saved to swin-B-384_pets_classifier.pth\n"
     ]
    }
   ],
   "source": [
    "# Save trained model\n",
    "save_path = \"swin-B-384_pets_classifier.pth\"\n",
    "torch.save(model.state_dict(), save_path)\n",
    "print(f\"Model saved to {save_path}\")\n"
   ]
  },
  {
   "cell_type": "code",
   "execution_count": 11,
   "id": "bdebec87-386e-441b-8608-e109aafed1d2",
   "metadata": {},
   "outputs": [
    {
     "data": {
      "image/png": "[encoded data removed]",
      "text/plain": [
       "<Figure size 1200x500 with 2 Axes>"
      ]
     },
     "metadata": {},
     "output_type": "display_data"
    }
   ],
   "source": [
    "import matplotlib.pyplot as plt\n",
    "\n",
    "# Unpack all 6 elements from history\n",
    "train_losses, train_accuracies, val_losses, val_accuracies, train_times, val_times = zip(*history)\n",
    "\n",
    "# Plot Loss\n",
    "plt.figure(figsize=(12, 5))\n",
    "plt.subplot(1, 2, 1)\n",
    "plt.plot(train_losses, label='Train Loss', marker='o')\n",
    "plt.plot(val_losses, label='Val Loss', marker='o')\n",
    "plt.title('Loss over Epochs')\n",
    "plt.xlabel('Epoch')\n",
    "plt.ylabel('Loss')\n",
    "plt.legend()\n",
    "plt.grid(True)\n",
    "\n",
    "# Plot Accuracy\n",
    "plt.subplot(1, 2, 2)\n",
    "plt.plot(train_accuracies, label='Train Accuracy', marker='o')\n",
    "plt.plot(val_accuracies, label='Val Accuracy', marker='o')\n",
    "plt.title('Accuracy over Epochs')\n",
    "plt.xlabel('Epoch')\n",
    "plt.ylabel('Accuracy (%)')\n",
    "plt.legend()\n",
    "plt.grid(True)\n",
    "\n",
    "plt.tight_layout()\n",
    "plt.show()\n"
   ]
  },
  {
   "cell_type": "code",
   "execution_count": 12,
   "id": "029dc51d-cb1a-4116-87ac-aaf19fc1f57a",
   "metadata": {},
   "outputs": [
    {
     "name": "stdout",
     "output_type": "stream",
     "text": [
      "| method       | image size   | #params   | FLOPs   |   throughput (img/s) | ImageNet top-1 acc.   |\n",
      "|--------------|--------------|-----------|---------|----------------------|-----------------------|\n",
      "| Swin-B (384) | 384×384      | 86.9M     | 47.19G  |                 54.5 | 93.71%                |\n"
     ]
    }
   ],
   "source": [
    "import torch\n",
    "import time\n",
    "import timm\n",
    "import warnings\n",
    "import contextlib\n",
    "import io\n",
    "from fvcore.nn import FlopCountAnalysis, parameter_count_table\n",
    "from tabulate import tabulate\n",
    "\n",
    "# 1. Define input\n",
    "sample_input = torch.randn(1, 3, 384, 384).to(device)\n",
    "\n",
    "# 2. Params and FLOPs (suppress warnings and stderr)\n",
    "with warnings.catch_warnings():\n",
    "    warnings.simplefilter(\"ignore\")\n",
    "    with contextlib.redirect_stderr(io.StringIO()):\n",
    "        flops = FlopCountAnalysis(model, sample_input)\n",
    "        total_flops = flops.total() / 1e9  # GFLOPs\n",
    "        param_table = parameter_count_table(model, max_depth=1)\n",
    "        total_params = sum(p.numel() for p in model.parameters()) / 1e6  # M\n",
    "\n",
    "# 3. Throughput\n",
    "@torch.no_grad()\n",
    "def measure_throughput(model, device, num_iters=100):\n",
    "    model.eval()\n",
    "    dummy_input = torch.randn(1, 3, 384, 384).to(device)\n",
    "    for _ in range(10):  # warm-up\n",
    "        _ = model(dummy_input)\n",
    "    start = time.time()\n",
    "    for _ in range(num_iters):\n",
    "        _ = model(dummy_input)\n",
    "    end = time.time()\n",
    "    return num_iters / (end - start)\n",
    "\n",
    "throughput = measure_throughput(model, device)\n",
    "\n",
    "# 4. Top-1 Accuracy (from history)\n",
    "_, _, _, val_accuracies, _, _ = zip(*history)\n",
    "top1_acc = max(val_accuracies)\n",
    "\n",
    "# 5. Build table\n",
    "table_data = [[\n",
    "    'Swin-B (384)',\n",
    "    '384×384',\n",
    "    f'{total_params:.1f}M',\n",
    "    f'{total_flops:.2f}G',\n",
    "    f'{throughput:.2f}',\n",
    "    f'{top1_acc:.2f}%',\n",
    "]]\n",
    "\n",
    "headers = ['method', 'image size', '#params', 'FLOPs', 'throughput (img/s)', 'ImageNet top-1 acc.']\n",
    "print(tabulate(table_data, headers=headers, tablefmt='github'))\n"
   ]
  },
  {
   "cell_type": "code",
   "execution_count": null,
   "id": "28e3c475-bdf6-4510-bcec-82e728cefd56",
   "metadata": {},
   "outputs": [],
   "source": []
  }
 ],
 "metadata": {
  "kernelspec": {
   "display_name": "Python (ml-gpu)",
   "language": "python",
   "name": "ml-gpu"
  },
  "language_info": {
   "codemirror_mode": {
    "name": "ipython",
    "version": 3
   },
   "file_extension": ".py",
   "mimetype": "text/x-python",
   "name": "python",
   "nbconvert_exporter": "python",
   "pygments_lexer": "ipython3",
   "version": "3.10.16"
  }
 },
 "nbformat": 4,
 "nbformat_minor": 5
}
