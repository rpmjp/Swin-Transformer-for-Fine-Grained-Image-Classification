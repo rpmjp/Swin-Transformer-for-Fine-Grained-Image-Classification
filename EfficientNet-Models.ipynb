{
 "cells": [
  {
   "cell_type": "code",
   "execution_count": 7,
   "id": "69e6df50-6f60-444f-b3ea-77bef8e0fd5c",
   "metadata": {},
   "outputs": [
    {
     "name": "stdout",
     "output_type": "stream",
     "text": [
      "Models to run:\n",
      " - EffNet-B3: tf_efficientnet_b3 | 300x300\n",
      " - EffNet-B4: tf_efficientnet_b4 | 380x380\n",
      " - EffNet-B5: tf_efficientnet_b5 | 456x456\n",
      " - EffNet-B6: tf_efficientnet_b6 | 528x528\n",
      " - EffNet-B7: tf_efficientnet_b7 | 600x600\n",
      "\n",
      "Dataset root: .\n",
      "Device: cuda\n"
     ]
    }
   ],
   "source": [
    "import torch\n",
    "import timm\n",
    "import os\n",
    "import random\n",
    "from torchvision import transforms\n",
    "from torch.utils.data import Dataset\n",
    "from PIL import Image\n",
    "\n",
    "# Configurable EfficientNet models to benchmark\n",
    "efficientnet_models = {\n",
    "    \"EffNet-B3\": {\"timm_name\": \"tf_efficientnet_b3\", \"image_size\": 300},\n",
    "    \"EffNet-B4\": {\"timm_name\": \"tf_efficientnet_b4\", \"image_size\": 380},\n",
    "    \"EffNet-B5\": {\"timm_name\": \"tf_efficientnet_b5\", \"image_size\": 456},\n",
    "    \"EffNet-B6\": {\"timm_name\": \"tf_efficientnet_b6\", \"image_size\": 528},\n",
    "    \"EffNet-B7\": {\"timm_name\": \"tf_efficientnet_b7\", \"image_size\": 600},\n",
    "}\n",
    "\n",
    "# Root dataset directory\n",
    "data_root = \".\"\n",
    "\n",
    "# Device config\n",
    "device = torch.device(\"cuda\" if torch.cuda.is_available() else \"cpu\")\n",
    "\n",
    "# Confirm configuration\n",
    "print(\"Models to run:\")\n",
    "for name, meta in efficientnet_models.items():\n",
    "    print(f\" - {name}: {meta['timm_name']} | {meta['image_size']}x{meta['image_size']}\")\n",
    "\n",
    "print(f\"\\nDataset root: {data_root}\")\n",
    "print(f\"Device: {device}\")\n"
   ]
  },
  {
   "cell_type": "code",
   "execution_count": 2,
   "id": "90757dc2-d6dd-4e92-b0ac-abeded22cd24",
   "metadata": {},
   "outputs": [],
   "source": [
    "class OxfordPetsDataset(Dataset):\n",
    "    def __init__(self, root_dir, split='train', image_size=224, transform=None, split_ratio=0.8, seed=42):\n",
    "        self.root_dir = root_dir\n",
    "        self.split = split\n",
    "        self.image_size = image_size\n",
    "\n",
    "        # List all .jpg files in ./images/\n",
    "        image_dir = os.path.join(root_dir, \"images\")\n",
    "        all_files = sorted([\n",
    "            f[:-4] for f in os.listdir(image_dir)\n",
    "            if f.endswith(\".jpg\")\n",
    "        ])\n",
    "\n",
    "        # Create train/val split\n",
    "        random.seed(seed)\n",
    "        random.shuffle(all_files)\n",
    "        split_idx = int(len(all_files) * split_ratio)\n",
    "        self.image_ids = all_files[:split_idx] if split == 'train' else all_files[split_idx:]\n",
    "\n",
    "        # Extract class names from filenames\n",
    "        self.class_names = sorted(list(set([img_id.rsplit('_', 1)[0] for img_id in all_files])))\n",
    "        self.class_to_idx = {cls_name: idx for idx, cls_name in enumerate(self.class_names)}\n",
    "\n",
    "        # Define transforms\n",
    "        if transform:\n",
    "            self.transform = transform\n",
    "        else:\n",
    "            self.transform = transforms.Compose([\n",
    "                transforms.Resize((image_size, image_size)),\n",
    "                transforms.ToTensor(),\n",
    "                transforms.Normalize(mean=[0.485, 0.456, 0.406],\n",
    "                                     std=[0.229, 0.224, 0.225]),\n",
    "            ])\n",
    "\n",
    "    def __len__(self):\n",
    "        return len(self.image_ids)\n",
    "\n",
    "    def __getitem__(self, idx):\n",
    "        img_id = self.image_ids[idx]\n",
    "        img_path = os.path.join(self.root_dir, 'images', f'{img_id}.jpg')\n",
    "        image = Image.open(img_path).convert('RGB')\n",
    "\n",
    "        class_name = img_id.rsplit('_', 1)[0]\n",
    "        label = self.class_to_idx[class_name]\n",
    "\n",
    "        image = self.transform(image)\n",
    "        return image, label\n",
    "\n",
    "\n",
    "def get_loaders(root_dir, image_size, batch_size=2, num_workers=0, seed=42):\n",
    "    train_dataset = OxfordPetsDataset(root_dir, split='train', image_size=image_size, seed=seed)\n",
    "    val_dataset   = OxfordPetsDataset(root_dir, split='val', image_size=image_size, seed=seed)\n",
    "\n",
    "    train_loader = torch.utils.data.DataLoader(train_dataset, batch_size=batch_size, shuffle=True, num_workers=num_workers)\n",
    "    val_loader   = torch.utils.data.DataLoader(val_dataset, batch_size=batch_size, shuffle=False, num_workers=num_workers)\n",
    "\n",
    "    return train_loader, val_loader\n"
   ]
  },
  {
   "cell_type": "code",
   "execution_count": 3,
   "id": "78be9b23-1162-4371-b11e-e61968cb4ce0",
   "metadata": {},
   "outputs": [],
   "source": [
    "import torch.nn as nn\n",
    "\n",
    "def load_model(model_name, num_classes):\n",
    "    model_info = efficientnet_models[model_name]\n",
    "    timm_name = model_info[\"timm_name\"]\n",
    "\n",
    "    # Load pretrained model from timm\n",
    "    model = timm.create_model(timm_name, pretrained=True)\n",
    "\n",
    "    # Replace classifier head based on structure\n",
    "    if hasattr(model, \"head\") and isinstance(model.head, nn.Linear):\n",
    "        in_features = model.head.in_features\n",
    "        model.head = nn.Linear(in_features, num_classes)\n",
    "    elif hasattr(model, \"classifier\") and isinstance(model.classifier, nn.Linear):\n",
    "        in_features = model.classifier.in_features\n",
    "        model.classifier = nn.Linear(in_features, num_classes)\n",
    "    else:\n",
    "        raise ValueError(\"Unknown model head structure for replacement.\")\n",
    "\n",
    "    return model.to(device)\n"
   ]
  },
  {
   "cell_type": "code",
   "execution_count": 4,
   "id": "0e0c968e-49dd-417e-8baf-96bc4d2f9629",
   "metadata": {},
   "outputs": [],
   "source": [
    "import time\n",
    "from tqdm import tqdm\n",
    "\n",
    "def train(model, dataloader, criterion, optimizer, device):\n",
    "    model.train()\n",
    "    total_loss, correct, total = 0, 0, 0\n",
    "    start_time = time.time()\n",
    "\n",
    "    loop = tqdm(dataloader, desc=\"Training\", leave=False)\n",
    "    for images, labels in loop:\n",
    "        images, labels = images.to(device), labels.to(device)\n",
    "\n",
    "        optimizer.zero_grad()\n",
    "        outputs = model(images)\n",
    "        loss = criterion(outputs, labels)\n",
    "        loss.backward()\n",
    "        optimizer.step()\n",
    "\n",
    "        total_loss += loss.item() * images.size(0)\n",
    "        _, preds = outputs.max(1)\n",
    "        correct += (preds == labels).sum().item()\n",
    "        total += labels.size(0)\n",
    "\n",
    "        loop.set_postfix(loss=loss.item(), acc=100.0 * correct / total)\n",
    "\n",
    "    avg_loss = total_loss / total\n",
    "    accuracy = 100.0 * correct / total\n",
    "    elapsed = time.time() - start_time\n",
    "    return avg_loss, accuracy, elapsed\n",
    "\n",
    "def validate(model, dataloader, criterion, device):\n",
    "    model.eval()\n",
    "    total_loss, correct, total = 0, 0, 0\n",
    "    start_time = time.time()\n",
    "\n",
    "    with torch.no_grad():\n",
    "        for images, labels in tqdm(dataloader, desc=\"Validating\", leave=False):\n",
    "            images, labels = images.to(device), labels.to(device)\n",
    "\n",
    "            outputs = model(images)\n",
    "            loss = criterion(outputs, labels)\n",
    "\n",
    "            total_loss += loss.item() * images.size(0)\n",
    "            _, preds = outputs.max(1)\n",
    "            correct += (preds == labels).sum().item()\n",
    "            total += labels.size(0)\n",
    "\n",
    "    avg_loss = total_loss / total\n",
    "    accuracy = 100.0 * correct / total\n",
    "    elapsed = time.time() - start_time\n",
    "    return avg_loss, accuracy, elapsed\n"
   ]
  },
  {
   "cell_type": "code",
   "execution_count": 5,
   "id": "399e5a71-b131-4026-90d0-02b04bc15c1e",
   "metadata": {},
   "outputs": [],
   "source": [
    "import torch\n",
    "torch.cuda.empty_cache()\n"
   ]
  },
  {
   "cell_type": "code",
   "execution_count": 6,
   "id": "258d73bb-ec7e-44fa-b7f3-98feaee51c7a",
   "metadata": {
    "scrolled": true
   },
   "outputs": [
    {
     "name": "stdout",
     "output_type": "stream",
     "text": [
      "\n",
      "🔍 Running model: EffNet-B3\n",
      "Epoch 1/5\n"
     ]
    },
    {
     "name": "stderr",
     "output_type": "stream",
     "text": [
      "                                                                                    "
     ]
    },
    {
     "name": "stdout",
     "output_type": "stream",
     "text": [
      "Train Loss: 1.8623, Train Acc: 44.25%\n",
      "Val Loss:   1.2248, Val Acc:   64.55%\n",
      "Train Time: 125.47s, Val Time: 20.33s\n",
      "\n",
      "Epoch 2/5\n"
     ]
    },
    {
     "name": "stderr",
     "output_type": "stream",
     "text": [
      "                                                                                    "
     ]
    },
    {
     "name": "stdout",
     "output_type": "stream",
     "text": [
      "Train Loss: 1.0023, Train Acc: 67.93%\n",
      "Val Loss:   0.8247, Val Acc:   74.36%\n",
      "Train Time: 85.56s, Val Time: 9.89s\n",
      "\n",
      "Epoch 3/5\n"
     ]
    },
    {
     "name": "stderr",
     "output_type": "stream",
     "text": [
      "                                                                                     "
     ]
    },
    {
     "name": "stdout",
     "output_type": "stream",
     "text": [
      "Train Loss: 0.7402, Train Acc: 75.90%\n",
      "Val Loss:   0.7931, Val Acc:   77.33%\n",
      "Train Time: 85.36s, Val Time: 10.05s\n",
      "\n",
      "Epoch 4/5\n"
     ]
    },
    {
     "name": "stderr",
     "output_type": "stream",
     "text": [
      "                                                                                     "
     ]
    },
    {
     "name": "stdout",
     "output_type": "stream",
     "text": [
      "Train Loss: 0.6041, Train Acc: 80.35%\n",
      "Val Loss:   0.7933, Val Acc:   78.15%\n",
      "Train Time: 85.92s, Val Time: 10.92s\n",
      "\n",
      "Epoch 5/5\n"
     ]
    },
    {
     "name": "stderr",
     "output_type": "stream",
     "text": [
      "                                                                                     "
     ]
    },
    {
     "name": "stdout",
     "output_type": "stream",
     "text": [
      "Train Loss: 0.5165, Train Acc: 82.90%\n",
      "Val Loss:   0.6465, Val Acc:   80.58%\n",
      "Train Time: 87.89s, Val Time: 10.36s\n",
      "\n",
      "\n",
      "🔍 Running model: EffNet-B4\n",
      "Epoch 1/5\n"
     ]
    },
    {
     "name": "stderr",
     "output_type": "stream",
     "text": [
      "                                                                                   "
     ]
    },
    {
     "name": "stdout",
     "output_type": "stream",
     "text": [
      "Train Loss: 2.0032, Train Acc: 40.17%\n",
      "Val Loss:   2.6187, Val Acc:   61.57%\n",
      "Train Time: 105.32s, Val Time: 11.99s\n",
      "\n",
      "Epoch 2/5\n"
     ]
    },
    {
     "name": "stderr",
     "output_type": "stream",
     "text": [
      "                                                                                    "
     ]
    },
    {
     "name": "stdout",
     "output_type": "stream",
     "text": [
      "Train Loss: 1.1176, Train Acc: 64.28%\n",
      "Val Loss:   1.1234, Val Acc:   67.59%\n",
      "Train Time: 103.25s, Val Time: 11.62s\n",
      "\n",
      "Epoch 3/5\n"
     ]
    },
    {
     "name": "stderr",
     "output_type": "stream",
     "text": [
      "                                                                                    "
     ]
    },
    {
     "name": "stdout",
     "output_type": "stream",
     "text": [
      "Train Loss: 0.8078, Train Acc: 73.77%\n",
      "Val Loss:   0.8664, Val Acc:   73.61%\n",
      "Train Time: 102.63s, Val Time: 11.65s\n",
      "\n",
      "Epoch 4/5\n"
     ]
    },
    {
     "name": "stderr",
     "output_type": "stream",
     "text": [
      "                                                                                     "
     ]
    },
    {
     "name": "stdout",
     "output_type": "stream",
     "text": [
      "Train Loss: 0.6384, Train Acc: 79.65%\n",
      "Val Loss:   0.9798, Val Acc:   75.03%\n",
      "Train Time: 103.17s, Val Time: 11.68s\n",
      "\n",
      "Epoch 5/5\n"
     ]
    },
    {
     "name": "stderr",
     "output_type": "stream",
     "text": [
      "                                                                                     "
     ]
    },
    {
     "name": "stdout",
     "output_type": "stream",
     "text": [
      "Train Loss: 0.5339, Train Acc: 82.41%\n",
      "Val Loss:   1.1250, Val Acc:   75.58%\n",
      "Train Time: 103.14s, Val Time: 11.61s\n",
      "\n",
      "\n",
      "🔍 Running model: EffNet-B5\n",
      "Epoch 1/5\n"
     ]
    },
    {
     "name": "stderr",
     "output_type": "stream",
     "text": [
      "                                                                                   "
     ]
    },
    {
     "name": "stdout",
     "output_type": "stream",
     "text": [
      "Train Loss: 2.4372, Train Acc: 28.33%\n",
      "Val Loss:   1.3354, Val Acc:   56.70%\n",
      "Train Time: 133.95s, Val Time: 13.88s\n",
      "\n",
      "Epoch 2/5\n"
     ]
    },
    {
     "name": "stderr",
     "output_type": "stream",
     "text": [
      "                                                                                   "
     ]
    },
    {
     "name": "stdout",
     "output_type": "stream",
     "text": [
      "Train Loss: 1.4294, Train Acc: 53.54%\n",
      "Val Loss:   1.1885, Val Acc:   61.71%\n",
      "Train Time: 134.46s, Val Time: 13.54s\n",
      "\n",
      "Epoch 3/5\n"
     ]
    },
    {
     "name": "stderr",
     "output_type": "stream",
     "text": [
      "                                                                                    "
     ]
    },
    {
     "name": "stdout",
     "output_type": "stream",
     "text": [
      "Train Loss: 0.9916, Train Acc: 67.73%\n",
      "Val Loss:   0.8173, Val Acc:   73.27%\n",
      "Train Time: 133.08s, Val Time: 13.52s\n",
      "\n",
      "Epoch 4/5\n"
     ]
    },
    {
     "name": "stderr",
     "output_type": "stream",
     "text": [
      "                                                                                    "
     ]
    },
    {
     "name": "stdout",
     "output_type": "stream",
     "text": [
      "Train Loss: 0.7748, Train Acc: 74.36%\n",
      "Val Loss:   0.9869, Val Acc:   71.45%\n",
      "Train Time: 133.86s, Val Time: 13.78s\n",
      "\n",
      "Epoch 5/5\n"
     ]
    },
    {
     "name": "stderr",
     "output_type": "stream",
     "text": [
      "                                                                                     "
     ]
    },
    {
     "name": "stdout",
     "output_type": "stream",
     "text": [
      "Train Loss: 0.6253, Train Acc: 78.89%\n",
      "Val Loss:   0.8951, Val Acc:   75.17%\n",
      "Train Time: 134.55s, Val Time: 13.63s\n",
      "\n",
      "\n",
      "🔍 Running model: EffNet-B6\n",
      "Epoch 1/5\n"
     ]
    },
    {
     "name": "stderr",
     "output_type": "stream",
     "text": [
      "                                                                                  "
     ]
    },
    {
     "name": "stdout",
     "output_type": "stream",
     "text": [
      "Train Loss: 3.4280, Train Acc: 7.10%\n",
      "Val Loss:   2.8559, Val Acc:   17.93%\n",
      "Train Time: 176.60s, Val Time: 15.76s\n",
      "\n",
      "Epoch 2/5\n"
     ]
    },
    {
     "name": "stderr",
     "output_type": "stream",
     "text": [
      "                                                                                  "
     ]
    },
    {
     "name": "stdout",
     "output_type": "stream",
     "text": [
      "Train Loss: 2.6940, Train Acc: 21.18%\n",
      "Val Loss:   2.1030, Val Acc:   36.74%\n",
      "Train Time: 175.57s, Val Time: 15.99s\n",
      "\n",
      "Epoch 3/5\n"
     ]
    },
    {
     "name": "stderr",
     "output_type": "stream",
     "text": [
      "                                                                                   "
     ]
    },
    {
     "name": "stdout",
     "output_type": "stream",
     "text": [
      "Train Loss: 2.0655, Train Acc: 36.30%\n",
      "Val Loss:   1.4781, Val Acc:   52.98%\n",
      "Train Time: 176.05s, Val Time: 15.60s\n",
      "\n",
      "Epoch 4/5\n"
     ]
    },
    {
     "name": "stderr",
     "output_type": "stream",
     "text": [
      "                                                                                   "
     ]
    },
    {
     "name": "stdout",
     "output_type": "stream",
     "text": [
      "Train Loss: 1.6170, Train Acc: 48.09%\n",
      "Val Loss:   1.3447, Val Acc:   55.95%\n",
      "Train Time: 176.05s, Val Time: 15.49s\n",
      "\n",
      "Epoch 5/5\n"
     ]
    },
    {
     "name": "stderr",
     "output_type": "stream",
     "text": [
      "                                                                                    "
     ]
    },
    {
     "name": "stdout",
     "output_type": "stream",
     "text": [
      "Train Loss: 1.2876, Train Acc: 58.53%\n",
      "Val Loss:   1.1042, Val Acc:   64.68%\n",
      "Train Time: 177.25s, Val Time: 15.74s\n",
      "\n",
      "\n",
      "🔍 Running model: EffNet-B7\n",
      "Epoch 1/5\n"
     ]
    },
    {
     "name": "stderr",
     "output_type": "stream",
     "text": [
      "                                                                                  "
     ]
    },
    {
     "name": "stdout",
     "output_type": "stream",
     "text": [
      "Train Loss: 3.1413, Train Acc: 12.40%\n",
      "Val Loss:   2.5111, Val Acc:   25.03%\n",
      "Train Time: 285.53s, Val Time: 22.91s\n",
      "\n",
      "Epoch 2/5\n"
     ]
    },
    {
     "name": "stderr",
     "output_type": "stream",
     "text": [
      "                                                                                   "
     ]
    },
    {
     "name": "stdout",
     "output_type": "stream",
     "text": [
      "Train Loss: 2.1355, Train Acc: 35.42%\n",
      "Val Loss:   1.4562, Val Acc:   52.64%\n",
      "Train Time: 267.56s, Val Time: 22.94s\n",
      "\n",
      "Epoch 3/5\n"
     ]
    },
    {
     "name": "stderr",
     "output_type": "stream",
     "text": [
      "                                                                                   "
     ]
    },
    {
     "name": "stdout",
     "output_type": "stream",
     "text": [
      "Train Loss: 1.5174, Train Acc: 51.01%\n",
      "Val Loss:   1.4555, Val Acc:   56.36%\n",
      "Train Time: 269.20s, Val Time: 22.97s\n",
      "\n",
      "Epoch 4/5\n"
     ]
    },
    {
     "name": "stderr",
     "output_type": "stream",
     "text": [
      "                                                                                   "
     ]
    },
    {
     "name": "stdout",
     "output_type": "stream",
     "text": [
      "Train Loss: 1.1918, Train Acc: 60.67%\n",
      "Val Loss:   1.1450, Val Acc:   69.76%\n",
      "Train Time: 267.73s, Val Time: 22.85s\n",
      "\n",
      "Epoch 5/5\n"
     ]
    },
    {
     "name": "stderr",
     "output_type": "stream",
     "text": [
      "                                                                                    "
     ]
    },
    {
     "name": "stdout",
     "output_type": "stream",
     "text": [
      "Train Loss: 0.9226, Train Acc: 69.42%\n",
      "Val Loss:   0.8739, Val Acc:   71.92%\n",
      "Train Time: 267.53s, Val Time: 22.76s\n",
      "\n",
      "\n",
      "✅ EfficientNet Benchmark Summary:\n"
     ]
    },
    {
     "data": {
      "text/html": [
       "<div>\n",
       "<style scoped>\n",
       "    .dataframe tbody tr th:only-of-type {\n",
       "        vertical-align: middle;\n",
       "    }\n",
       "\n",
       "    .dataframe tbody tr th {\n",
       "        vertical-align: top;\n",
       "    }\n",
       "\n",
       "    .dataframe thead th {\n",
       "        text-align: right;\n",
       "    }\n",
       "</style>\n",
       "<table border=\"1\" class=\"dataframe\">\n",
       "  <thead>\n",
       "    <tr style=\"text-align: right;\">\n",
       "      <th></th>\n",
       "      <th>method</th>\n",
       "      <th>image size</th>\n",
       "      <th>#params</th>\n",
       "      <th>FLOPs</th>\n",
       "      <th>throughput (image / s)</th>\n",
       "      <th>ImageNet top-1 acc.</th>\n",
       "    </tr>\n",
       "  </thead>\n",
       "  <tbody>\n",
       "    <tr>\n",
       "      <th>0</th>\n",
       "      <td>EffNet-B3</td>\n",
       "      <td>300²</td>\n",
       "      <td>11M</td>\n",
       "      <td>1.9G</td>\n",
       "      <td>142.7</td>\n",
       "      <td>80.6</td>\n",
       "    </tr>\n",
       "    <tr>\n",
       "      <th>1</th>\n",
       "      <td>EffNet-B4</td>\n",
       "      <td>380²</td>\n",
       "      <td>18M</td>\n",
       "      <td>4.5G</td>\n",
       "      <td>127.3</td>\n",
       "      <td>75.6</td>\n",
       "    </tr>\n",
       "    <tr>\n",
       "      <th>2</th>\n",
       "      <td>EffNet-B5</td>\n",
       "      <td>456²</td>\n",
       "      <td>28M</td>\n",
       "      <td>10.5G</td>\n",
       "      <td>108.4</td>\n",
       "      <td>75.2</td>\n",
       "    </tr>\n",
       "    <tr>\n",
       "      <th>3</th>\n",
       "      <td>EffNet-B6</td>\n",
       "      <td>528²</td>\n",
       "      <td>41M</td>\n",
       "      <td>19.4G</td>\n",
       "      <td>93.9</td>\n",
       "      <td>64.7</td>\n",
       "    </tr>\n",
       "    <tr>\n",
       "      <th>4</th>\n",
       "      <td>EffNet-B7</td>\n",
       "      <td>600²</td>\n",
       "      <td>64M</td>\n",
       "      <td>38.3G</td>\n",
       "      <td>64.9</td>\n",
       "      <td>71.9</td>\n",
       "    </tr>\n",
       "  </tbody>\n",
       "</table>\n",
       "</div>"
      ],
      "text/plain": [
       "      method image size #params  FLOPs  throughput (image / s)  \\\n",
       "0  EffNet-B3       300²     11M   1.9G                   142.7   \n",
       "1  EffNet-B4       380²     18M   4.5G                   127.3   \n",
       "2  EffNet-B5       456²     28M  10.5G                   108.4   \n",
       "3  EffNet-B6       528²     41M  19.4G                    93.9   \n",
       "4  EffNet-B7       600²     64M  38.3G                    64.9   \n",
       "\n",
       "   ImageNet top-1 acc.  \n",
       "0                 80.6  \n",
       "1                 75.6  \n",
       "2                 75.2  \n",
       "3                 64.7  \n",
       "4                 71.9  "
      ]
     },
     "metadata": {},
     "output_type": "display_data"
    }
   ],
   "source": [
    "from torch import nn, optim\n",
    "import pandas as pd\n",
    "import os\n",
    "os.environ[\"HF_HUB_DISABLE_SYMLINKS_WARNING\"] = \"1\"\n",
    "import time\n",
    "import warnings\n",
    "import contextlib\n",
    "import io\n",
    "from fvcore.nn import FlopCountAnalysis\n",
    "import gc\n",
    "\n",
    "results = []\n",
    "num_epochs = 5\n",
    "learning_rate = 1e-3\n",
    "batch_size = 4\n",
    "num_workers = 0\n",
    "\n",
    "for model_name, config in efficientnet_models.items():\n",
    "    try:\n",
    "        print(f\"\\n🔍 Running model: {model_name}\")\n",
    "\n",
    "        image_size = config[\"image_size\"]\n",
    "        train_loader, val_loader = get_loaders(data_root, image_size=image_size, batch_size=batch_size, num_workers=num_workers)\n",
    "\n",
    "        # Initialize model and classifier head\n",
    "        model = timm.create_model(config[\"timm_name\"], pretrained=True)\n",
    "        num_classes = len(train_loader.dataset.class_to_idx)\n",
    "        model.reset_classifier(num_classes)\n",
    "        model = model.to(device)\n",
    "        model.eval()  # Ensure eval mode before FLOPs analysis\n",
    "\n",
    "        # Compute FLOPs using fvcore, suppressing warnings and stderr\n",
    "        sample_input = torch.randn(1, 3, image_size, image_size).to(device)\n",
    "        with warnings.catch_warnings():\n",
    "            warnings.simplefilter(\"ignore\")\n",
    "            with contextlib.redirect_stderr(io.StringIO()):\n",
    "                flops = FlopCountAnalysis(model, sample_input).total() / 1e9  # GFLOPs\n",
    "        del sample_input\n",
    "        torch.cuda.empty_cache()\n",
    "\n",
    "        # Optimizer and loss\n",
    "        optimizer = optim.AdamW(model.parameters(), lr=learning_rate)\n",
    "        criterion = nn.CrossEntropyLoss()\n",
    "\n",
    "        # Store epoch history\n",
    "        history = []\n",
    "\n",
    "        for epoch in range(num_epochs):\n",
    "            print(f\"Epoch {epoch+1}/{num_epochs}\")\n",
    "\n",
    "            try:\n",
    "                train_loss, train_acc, train_time = train(model, train_loader, criterion, optimizer, device)\n",
    "                val_loss, val_acc, val_time = validate(model, val_loader, criterion, device)\n",
    "            except RuntimeError as e:\n",
    "                if \"out of memory\" in str(e).lower():\n",
    "                    print(f\"❌ OOM on model {model_name}, skipping...\")\n",
    "                    torch.cuda.empty_cache()\n",
    "                    break\n",
    "                else:\n",
    "                    raise\n",
    "\n",
    "            print(f\"Train Loss: {train_loss:.4f}, Train Acc: {train_acc:.2f}%\")\n",
    "            print(f\"Val Loss:   {val_loss:.4f}, Val Acc:   {val_acc:.2f}%\")\n",
    "            print(f\"Train Time: {train_time:.2f}s, Val Time: {val_time:.2f}s\\n\")\n",
    "\n",
    "            history.append((train_loss, train_acc, val_loss, val_acc, train_time, val_time))\n",
    "\n",
    "        if history:  # Only report if training ran successfully\n",
    "            final_metrics = history[-1]\n",
    "            params_m = round(sum(p.numel() for p in model.parameters()) / 1e6)\n",
    "            flops_g = round(flops, 1)\n",
    "            throughput = round(len(val_loader.dataset) / final_metrics[5], 1)\n",
    "            top1_acc = round(final_metrics[3], 1)\n",
    "\n",
    "            results.append({\n",
    "                \"method\": model_name,\n",
    "                \"image size\": f\"{image_size}²\",\n",
    "                \"#params\": f\"{params_m}M\",\n",
    "                \"FLOPs\": f\"{flops_g}G\",\n",
    "                \"throughput (image / s)\": throughput,\n",
    "                \"ImageNet top-1 acc.\": top1_acc,\n",
    "            })\n",
    "\n",
    "    finally:\n",
    "        del model, train_loader, val_loader\n",
    "        torch.cuda.empty_cache()\n",
    "        gc.collect()\n",
    "\n",
    "# Final table\n",
    "results_df = pd.DataFrame(results)\n",
    "print(\"\\n✅ EfficientNet Benchmark Summary:\")\n",
    "display(results_df)\n"
   ]
  },
  {
   "cell_type": "code",
   "execution_count": null,
   "id": "60845b34-4f4b-4c0d-a47f-d29aa8d272ef",
   "metadata": {},
   "outputs": [],
   "source": []
  }
 ],
 "metadata": {
  "kernelspec": {
   "display_name": "Python (ml-gpu)",
   "language": "python",
   "name": "ml-gpu"
  },
  "language_info": {
   "codemirror_mode": {
    "name": "ipython",
    "version": 3
   },
   "file_extension": ".py",
   "mimetype": "text/x-python",
   "name": "python",
   "nbconvert_exporter": "python",
   "pygments_lexer": "ipython3",
   "version": "3.10.16"
  }
 },
 "nbformat": 4,
 "nbformat_minor": 5
}
