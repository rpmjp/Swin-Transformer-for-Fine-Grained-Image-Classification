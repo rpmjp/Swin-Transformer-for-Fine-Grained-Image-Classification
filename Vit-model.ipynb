{
 "cells": [
  {
   "cell_type": "code",
   "execution_count": 1,
   "id": "57f02a3a-f5f1-4bff-83bd-861997e3906e",
   "metadata": {},
   "outputs": [
    {
     "name": "stdout",
     "output_type": "stream",
     "text": [
      "Models to run:\n",
      " - ViT-B/16: vit_base_patch16_384 | 384x384\n",
      " - ViT-L/16: vit_large_patch16_384 | 384x384\n",
      "\n",
      "Dataset root: .\n",
      "Device: cuda\n"
     ]
    }
   ],
   "source": [
    "import torch\n",
    "import timm\n",
    "import os\n",
    "import random\n",
    "from torchvision import transforms\n",
    "from torch.utils.data import Dataset\n",
    "from PIL import Image\n",
    "\n",
    "# Configurable ViT models to benchmark\n",
    "vit_models = {\n",
    "    \"ViT-B/16\": {\"timm_name\": \"vit_base_patch16_384\", \"image_size\": 384},\n",
    "    \"ViT-L/16\": {\"timm_name\": \"vit_large_patch16_384\", \"image_size\": 384},\n",
    "}\n",
    "\n",
    "# Root dataset directory\n",
    "data_root = \".\"\n",
    "\n",
    "# Device config\n",
    "device = torch.device(\"cuda\" if torch.cuda.is_available() else \"cpu\")\n",
    "\n",
    "# Confirm configuration\n",
    "print(\"Models to run:\")\n",
    "for name, meta in vit_models.items():\n",
    "    print(f\" - {name}: {meta['timm_name']} | {meta['image_size']}x{meta['image_size']}\")\n",
    "\n",
    "print(f\"\\nDataset root: {data_root}\")\n",
    "print(f\"Device: {device}\")\n"
   ]
  },
  {
   "cell_type": "code",
   "execution_count": 2,
   "id": "1a303189-c204-4c2c-b4d0-4a2fab91ea94",
   "metadata": {},
   "outputs": [],
   "source": [
    "# Cell 2: OxfordPetsDataset and DataLoader\n",
    "from torchvision import transforms\n",
    "from torch.utils.data import Dataset\n",
    "from PIL import Image\n",
    "import os\n",
    "import random\n",
    "\n",
    "class OxfordPetsDataset(Dataset):\n",
    "    def __init__(self, root_dir, split='train', image_size=384, transform=None, split_ratio=0.8, seed=42):\n",
    "        self.root_dir = root_dir\n",
    "        self.split = split\n",
    "        self.image_size = image_size\n",
    "\n",
    "        image_dir = os.path.join(root_dir, \"images\")\n",
    "        all_files = sorted([\n",
    "            f[:-4] for f in os.listdir(image_dir)\n",
    "            if f.endswith(\".jpg\")\n",
    "        ])\n",
    "\n",
    "        random.seed(seed)\n",
    "        random.shuffle(all_files)\n",
    "        split_idx = int(len(all_files) * split_ratio)\n",
    "        self.image_ids = all_files[:split_idx] if split == 'train' else all_files[split_idx:]\n",
    "\n",
    "        self.class_names = sorted(list(set([img_id.rsplit('_', 1)[0] for img_id in all_files])))\n",
    "        self.class_to_idx = {cls_name: idx for idx, cls_name in enumerate(self.class_names)}\n",
    "\n",
    "        self.transform = transform if transform else transforms.Compose([\n",
    "            transforms.Resize((image_size, image_size)),\n",
    "            transforms.ToTensor(),\n",
    "            transforms.Normalize(mean=[0.485, 0.456, 0.406],\n",
    "                                 std=[0.229, 0.224, 0.225]),\n",
    "        ])\n",
    "\n",
    "    def __len__(self):\n",
    "        return len(self.image_ids)\n",
    "\n",
    "    def __getitem__(self, idx):\n",
    "        img_id = self.image_ids[idx]\n",
    "        img_path = os.path.join(self.root_dir, 'images', f'{img_id}.jpg')\n",
    "        image = Image.open(img_path).convert('RGB')\n",
    "\n",
    "        class_name = img_id.rsplit('_', 1)[0]\n",
    "        label = self.class_to_idx[class_name]\n",
    "\n",
    "        image = self.transform(image)\n",
    "        return image, label\n",
    "\n",
    "def get_loaders(root_dir, image_size=384, batch_size=64, num_workers=0, seed=42):\n",
    "    train_dataset = OxfordPetsDataset(root_dir, split='train', image_size=image_size, seed=seed)\n",
    "    val_dataset   = OxfordPetsDataset(root_dir, split='val', image_size=image_size, seed=seed)\n",
    "\n",
    "    train_loader = torch.utils.data.DataLoader(train_dataset, batch_size=batch_size, shuffle=True, num_workers=num_workers)\n",
    "    val_loader   = torch.utils.data.DataLoader(val_dataset, batch_size=batch_size, shuffle=False, num_workers=num_workers)\n",
    "\n",
    "    return train_loader, val_loader\n"
   ]
  },
  {
   "cell_type": "code",
   "execution_count": 3,
   "id": "dee8f5ad-0e08-4a29-9486-cadf7db05def",
   "metadata": {},
   "outputs": [],
   "source": [
    "import torch.nn as nn\n",
    "\n",
    "def load_model(model_name, num_classes):\n",
    "    model_info = vit_models[model_name]\n",
    "    timm_name = model_info[\"timm_name\"]\n",
    "\n",
    "    # Load pretrained ViT model from timm\n",
    "    model = timm.create_model(timm_name, pretrained=True)\n",
    "\n",
    "    # Replace classifier head\n",
    "    if hasattr(model, \"head\") and isinstance(model.head, nn.Linear):\n",
    "        in_features = model.head.in_features\n",
    "        model.head = nn.Linear(in_features, num_classes)\n",
    "    else:\n",
    "        raise ValueError(\"Unexpected classifier head structure.\")\n",
    "\n",
    "    return model.to(device)\n"
   ]
  },
  {
   "cell_type": "code",
   "execution_count": 4,
   "id": "a04618d7-eaa6-401e-9c5a-c6af7e86ae92",
   "metadata": {},
   "outputs": [],
   "source": [
    "import time\n",
    "from tqdm import tqdm\n",
    "\n",
    "def train(model, dataloader, criterion, optimizer, device):\n",
    "    model.train()\n",
    "    total_loss, correct, total = 0, 0, 0\n",
    "    start_time = time.time()\n",
    "\n",
    "    loop = tqdm(dataloader, desc=\"Training\", leave=False)\n",
    "    for images, labels in loop:\n",
    "        images, labels = images.to(device), labels.to(device)\n",
    "\n",
    "        optimizer.zero_grad()\n",
    "        outputs = model(images)\n",
    "        loss = criterion(outputs, labels)\n",
    "        loss.backward()\n",
    "        optimizer.step()\n",
    "\n",
    "        total_loss += loss.item() * images.size(0)\n",
    "        _, preds = outputs.max(1)\n",
    "        correct += (preds == labels).sum().item()\n",
    "        total += labels.size(0)\n",
    "\n",
    "        loop.set_postfix(loss=loss.item(), acc=100.0 * correct / total)\n",
    "\n",
    "    avg_loss = total_loss / total\n",
    "    accuracy = 100.0 * correct / total\n",
    "    elapsed = time.time() - start_time\n",
    "    return avg_loss, accuracy, elapsed\n",
    "\n",
    "def validate(model, dataloader, criterion, device):\n",
    "    model.eval()\n",
    "    total_loss, correct, total = 0, 0, 0\n",
    "    start_time = time.time()\n",
    "\n",
    "    with torch.no_grad():\n",
    "        for images, labels in tqdm(dataloader, desc=\"Validating\", leave=False):\n",
    "            images, labels = images.to(device), labels.to(device)\n",
    "\n",
    "            outputs = model(images)\n",
    "            loss = criterion(outputs, labels)\n",
    "\n",
    "            total_loss += loss.item() * images.size(0)\n",
    "            _, preds = outputs.max(1)\n",
    "            correct += (preds == labels).sum().item()\n",
    "            total += labels.size(0)\n",
    "\n",
    "    avg_loss = total_loss / total\n",
    "    accuracy = 100.0 * correct / total\n",
    "    elapsed = time.time() - start_time\n",
    "    return avg_loss, accuracy, elapsed\n"
   ]
  },
  {
   "cell_type": "code",
   "execution_count": 5,
   "id": "bd10369a-671f-4067-9a1e-41931551dc0f",
   "metadata": {},
   "outputs": [
    {
     "name": "stdout",
     "output_type": "stream",
     "text": [
      "\n",
      "🔍 Running model: ViT-B/16\n",
      "Epoch 1/5\n"
     ]
    },
    {
     "name": "stderr",
     "output_type": "stream",
     "text": [
      "                                                                              "
     ]
    },
    {
     "name": "stdout",
     "output_type": "stream",
     "text": [
      "Train Loss: 4.2633, Train Acc: 2.81%\n",
      "Val Loss:   3.7855, Val Acc:   2.98%\n",
      "Train Time: 115.26s, Val Time: 17.81s\n",
      "\n",
      "Epoch 2/5\n"
     ]
    },
    {
     "name": "stderr",
     "output_type": "stream",
     "text": [
      "                                                                              "
     ]
    },
    {
     "name": "stdout",
     "output_type": "stream",
     "text": [
      "Train Loss: 3.7015, Train Acc: 4.11%\n",
      "Val Loss:   3.6951, Val Acc:   4.94%\n",
      "Train Time: 86.30s, Val Time: 10.77s\n",
      "\n",
      "Epoch 3/5\n"
     ]
    },
    {
     "name": "stderr",
     "output_type": "stream",
     "text": [
      "                                                                              "
     ]
    },
    {
     "name": "stdout",
     "output_type": "stream",
     "text": [
      "Train Loss: 3.5963, Train Acc: 4.75%\n",
      "Val Loss:   3.5638, Val Acc:   5.48%\n",
      "Train Time: 85.25s, Val Time: 10.30s\n",
      "\n",
      "Epoch 4/5\n"
     ]
    },
    {
     "name": "stderr",
     "output_type": "stream",
     "text": [
      "                                                                              "
     ]
    },
    {
     "name": "stdout",
     "output_type": "stream",
     "text": [
      "Train Loss: 3.5225, Train Acc: 6.21%\n",
      "Val Loss:   3.5356, Val Acc:   5.75%\n",
      "Train Time: 85.12s, Val Time: 10.35s\n",
      "\n",
      "Epoch 5/5\n"
     ]
    },
    {
     "name": "stderr",
     "output_type": "stream",
     "text": [
      "                                                                              "
     ]
    },
    {
     "name": "stdout",
     "output_type": "stream",
     "text": [
      "Train Loss: 3.4614, Train Acc: 6.73%\n",
      "Val Loss:   3.5491, Val Acc:   4.19%\n",
      "Train Time: 86.16s, Val Time: 10.48s\n",
      "\n",
      "\n",
      "🔍 Running model: ViT-L/16\n",
      "Epoch 1/5\n"
     ]
    },
    {
     "name": "stderr",
     "output_type": "stream",
     "text": [
      "                                                "
     ]
    },
    {
     "name": "stdout",
     "output_type": "stream",
     "text": [
      "❌ OOM on model ViT-L/16, skipping...\n",
      "\n",
      "✅ ViT Benchmark Summary:\n"
     ]
    },
    {
     "data": {
      "text/html": [
       "<div>\n",
       "<style scoped>\n",
       "    .dataframe tbody tr th:only-of-type {\n",
       "        vertical-align: middle;\n",
       "    }\n",
       "\n",
       "    .dataframe tbody tr th {\n",
       "        vertical-align: top;\n",
       "    }\n",
       "\n",
       "    .dataframe thead th {\n",
       "        text-align: right;\n",
       "    }\n",
       "</style>\n",
       "<table border=\"1\" class=\"dataframe\">\n",
       "  <thead>\n",
       "    <tr style=\"text-align: right;\">\n",
       "      <th></th>\n",
       "      <th>method</th>\n",
       "      <th>image size</th>\n",
       "      <th>#params</th>\n",
       "      <th>FLOPs</th>\n",
       "      <th>throughput (image / s)</th>\n",
       "      <th>ImageNet top-1 acc.</th>\n",
       "    </tr>\n",
       "  </thead>\n",
       "  <tbody>\n",
       "    <tr>\n",
       "      <th>0</th>\n",
       "      <td>ViT-B/16</td>\n",
       "      <td>384²</td>\n",
       "      <td>86M</td>\n",
       "      <td>49.4G</td>\n",
       "      <td>141.0</td>\n",
       "      <td>4.2</td>\n",
       "    </tr>\n",
       "  </tbody>\n",
       "</table>\n",
       "</div>"
      ],
      "text/plain": [
       "     method image size #params  FLOPs  throughput (image / s)  \\\n",
       "0  ViT-B/16       384²     86M  49.4G                   141.0   \n",
       "\n",
       "   ImageNet top-1 acc.  \n",
       "0                  4.2  "
      ]
     },
     "metadata": {},
     "output_type": "display_data"
    }
   ],
   "source": [
    "from torch import nn, optim\n",
    "import pandas as pd\n",
    "import os\n",
    "os.environ[\"HF_HUB_DISABLE_SYMLINKS_WARNING\"] = \"1\"\n",
    "import time\n",
    "import warnings\n",
    "import contextlib\n",
    "import io\n",
    "from fvcore.nn import FlopCountAnalysis\n",
    "import gc\n",
    "\n",
    "results = []\n",
    "num_epochs = 5\n",
    "learning_rate = 1e-3\n",
    "batch_size = 64\n",
    "num_workers = 0\n",
    "\n",
    "for model_name, config in vit_models.items():\n",
    "    try:\n",
    "        print(f\"\\n🔍 Running model: {model_name}\")\n",
    "\n",
    "        image_size = config[\"image_size\"]\n",
    "        train_loader, val_loader = get_loaders(data_root, image_size=image_size, batch_size=batch_size, num_workers=num_workers)\n",
    "\n",
    "        # Initialize ViT model using load_model()\n",
    "        num_classes = len(train_loader.dataset.class_to_idx)\n",
    "        model = load_model(model_name, num_classes)\n",
    "        model.eval()  # Ensure eval mode before FLOPs analysis\n",
    "\n",
    "        # Compute FLOPs using fvcore, suppressing warnings and stderr\n",
    "        sample_input = torch.randn(1, 3, image_size, image_size).to(device)\n",
    "        with warnings.catch_warnings():\n",
    "            warnings.simplefilter(\"ignore\")\n",
    "            with contextlib.redirect_stderr(io.StringIO()):\n",
    "                flops = FlopCountAnalysis(model, sample_input).total() / 1e9  # GFLOPs\n",
    "        del sample_input\n",
    "        torch.cuda.empty_cache()\n",
    "\n",
    "        # Optimizer and loss\n",
    "        optimizer = optim.AdamW(model.parameters(), lr=learning_rate)\n",
    "        criterion = nn.CrossEntropyLoss()\n",
    "\n",
    "        # Store epoch history\n",
    "        history = []\n",
    "\n",
    "        for epoch in range(num_epochs):\n",
    "            print(f\"Epoch {epoch+1}/{num_epochs}\")\n",
    "\n",
    "            try:\n",
    "                train_loss, train_acc, train_time = train(model, train_loader, criterion, optimizer, device)\n",
    "                val_loss, val_acc, val_time = validate(model, val_loader, criterion, device)\n",
    "            except RuntimeError as e:\n",
    "                if \"out of memory\" in str(e).lower():\n",
    "                    print(f\"❌ OOM on model {model_name}, skipping...\")\n",
    "                    torch.cuda.empty_cache()\n",
    "                    break\n",
    "                else:\n",
    "                    raise\n",
    "\n",
    "            print(f\"Train Loss: {train_loss:.4f}, Train Acc: {train_acc:.2f}%\")\n",
    "            print(f\"Val Loss:   {val_loss:.4f}, Val Acc:   {val_acc:.2f}%\")\n",
    "            print(f\"Train Time: {train_time:.2f}s, Val Time: {val_time:.2f}s\\n\")\n",
    "\n",
    "            history.append((train_loss, train_acc, val_loss, val_acc, train_time, val_time))\n",
    "\n",
    "        if history:  # Only report if training ran successfully\n",
    "            final_metrics = history[-1]\n",
    "            params_m = round(sum(p.numel() for p in model.parameters()) / 1e6)\n",
    "            flops_g = round(flops, 1)\n",
    "            throughput = round(len(val_loader.dataset) / final_metrics[5], 1)\n",
    "            top1_acc = round(final_metrics[3], 1)\n",
    "\n",
    "            results.append({\n",
    "                \"method\": model_name,\n",
    "                \"image size\": f\"{image_size}²\",\n",
    "                \"#params\": f\"{params_m}M\",\n",
    "                \"FLOPs\": f\"{flops_g}G\",\n",
    "                \"throughput (image / s)\": throughput,\n",
    "                \"ImageNet top-1 acc.\": top1_acc,\n",
    "            })\n",
    "\n",
    "    finally:\n",
    "        del model, train_loader, val_loader\n",
    "        torch.cuda.empty_cache()\n",
    "        gc.collect()\n",
    "\n",
    "# Final table\n",
    "results_df = pd.DataFrame(results)\n",
    "print(\"\\n✅ ViT Benchmark Summary:\")\n",
    "display(results_df)\n"
   ]
  }
 ],
 "metadata": {
  "kernelspec": {
   "display_name": "Python (ml-gpu)",
   "language": "python",
   "name": "ml-gpu"
  },
  "language_info": {
   "codemirror_mode": {
    "name": "ipython",
    "version": 3
   },
   "file_extension": ".py",
   "mimetype": "text/x-python",
   "name": "python",
   "nbconvert_exporter": "python",
   "pygments_lexer": "ipython3",
   "version": "3.10.16"
  }
 },
 "nbformat": 4,
 "nbformat_minor": 5
}
