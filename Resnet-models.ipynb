{
 "cells": [
  {
   "cell_type": "code",
   "execution_count": 1,
   "id": "13a157db-6c92-4a1e-a6be-e502a55862b2",
   "metadata": {},
   "outputs": [
    {
     "name": "stdout",
     "output_type": "stream",
     "text": [
      "Models to run:\n",
      " - RegNetY-4G: regnety_004 | 224x224\n",
      " - RegNetY-8G: regnety_008 | 224x224\n",
      " - RegNetY-16G: regnety_016 | 224x224\n",
      "\n",
      "Dataset root: .\n",
      "Device: cuda\n"
     ]
    }
   ],
   "source": [
    "import torch\n",
    "import timm\n",
    "import os\n",
    "import random\n",
    "from torchvision import transforms\n",
    "from torch.utils.data import Dataset\n",
    "from PIL import Image\n",
    "\n",
    "# Configurable RegNetY models to benchmark\n",
    "regnety_models = {\n",
    "    \"RegNetY-4G\": {\"timm_name\": \"regnety_004\", \"image_size\": 224},\n",
    "    \"RegNetY-8G\": {\"timm_name\": \"regnety_008\", \"image_size\": 224},\n",
    "    \"RegNetY-16G\": {\"timm_name\": \"regnety_016\", \"image_size\": 224},\n",
    "}\n",
    "\n",
    "# Correct root dataset directory (matches your screenshot)\n",
    "data_root = \".\"  # the current folder contains 'images' and 'annotations'\n",
    "\n",
    "# Device config\n",
    "device = torch.device(\"cuda\" if torch.cuda.is_available() else \"cpu\")\n",
    "\n",
    "# Confirm configuration\n",
    "print(\"Models to run:\")\n",
    "for name, meta in regnety_models.items():\n",
    "    print(f\" - {name}: {meta['timm_name']} | {meta['image_size']}x{meta['image_size']}\")\n",
    "\n",
    "print(f\"\\nDataset root: {data_root}\")\n",
    "print(f\"Device: {device}\")\n"
   ]
  },
  {
   "cell_type": "code",
   "execution_count": 2,
   "id": "302ccac1-ab01-49d8-964e-e062e1d59882",
   "metadata": {},
   "outputs": [],
   "source": [
    "class OxfordPetsDataset(Dataset):\n",
    "    def __init__(self, root_dir, split='train', image_size=224, transform=None, split_ratio=0.8, seed=42):\n",
    "        self.root_dir = root_dir\n",
    "        self.split = split\n",
    "        self.image_size = image_size\n",
    "\n",
    "        # List all .jpg files in ./images/\n",
    "        image_dir = os.path.join(root_dir, \"images\")\n",
    "        all_files = sorted([\n",
    "            f[:-4] for f in os.listdir(image_dir)\n",
    "            if f.endswith(\".jpg\")\n",
    "        ])\n",
    "\n",
    "        # Create train/val split\n",
    "        random.seed(seed)\n",
    "        random.shuffle(all_files)\n",
    "        split_idx = int(len(all_files) * split_ratio)\n",
    "        self.image_ids = all_files[:split_idx] if split == 'train' else all_files[split_idx:]\n",
    "\n",
    "        # Extract class names from filenames\n",
    "        self.class_names = sorted(list(set([img_id.rsplit('_', 1)[0] for img_id in all_files])))\n",
    "        self.class_to_idx = {cls_name: idx for idx, cls_name in enumerate(self.class_names)}\n",
    "\n",
    "        # Define transforms\n",
    "        if transform:\n",
    "            self.transform = transform\n",
    "        else:\n",
    "            self.transform = transforms.Compose([\n",
    "                transforms.Resize((image_size, image_size)),\n",
    "                transforms.ToTensor(),\n",
    "                transforms.Normalize(mean=[0.485, 0.456, 0.406],\n",
    "                                     std=[0.229, 0.224, 0.225]),\n",
    "            ])\n",
    "\n",
    "    def __len__(self):\n",
    "        return len(self.image_ids)\n",
    "\n",
    "    def __getitem__(self, idx):\n",
    "        img_id = self.image_ids[idx]\n",
    "        img_path = os.path.join(self.root_dir, 'images', f'{img_id}.jpg')\n",
    "        image = Image.open(img_path).convert('RGB')\n",
    "\n",
    "        class_name = img_id.rsplit('_', 1)[0]\n",
    "        label = self.class_to_idx[class_name]\n",
    "\n",
    "        image = self.transform(image)\n",
    "        return image, label\n",
    "\n",
    "\n",
    "def get_loaders(root_dir, image_size, batch_size=64, num_workers=0, seed=42):\n",
    "    train_dataset = OxfordPetsDataset(root_dir, split='train', image_size=image_size, seed=seed)\n",
    "    val_dataset   = OxfordPetsDataset(root_dir, split='val', image_size=image_size, seed=seed)\n",
    "\n",
    "    train_loader = torch.utils.data.DataLoader(train_dataset, batch_size=batch_size, shuffle=True, num_workers=num_workers)\n",
    "    val_loader   = torch.utils.data.DataLoader(val_dataset, batch_size=batch_size, shuffle=False, num_workers=num_workers)\n",
    "\n",
    "    return train_loader, val_loader\n"
   ]
  },
  {
   "cell_type": "code",
   "execution_count": 3,
   "id": "c6f26b9a-282b-44d9-b844-bd94f7df71a0",
   "metadata": {},
   "outputs": [],
   "source": [
    "import torch.nn as nn\n",
    "\n",
    "def load_model(model_name, num_classes):\n",
    "    model_info = regnety_models[model_name]\n",
    "    timm_name = model_info[\"timm_name\"]\n",
    "\n",
    "    # Load pretrained model from timm\n",
    "    model = timm.create_model(timm_name, pretrained=True)\n",
    "\n",
    "    # Replace classifier head based on structure\n",
    "    if hasattr(model, \"head\") and isinstance(model.head, nn.Linear):\n",
    "        in_features = model.head.in_features\n",
    "        model.head = nn.Linear(in_features, num_classes)\n",
    "    elif hasattr(model, \"classifier\") and isinstance(model.classifier, nn.Linear):\n",
    "        in_features = model.classifier.in_features\n",
    "        model.classifier = nn.Linear(in_features, num_classes)\n",
    "    else:\n",
    "        raise ValueError(\"Unknown model head structure for replacement.\")\n",
    "\n",
    "    return model.to(device)\n"
   ]
  },
  {
   "cell_type": "code",
   "execution_count": 4,
   "id": "583062d3-693d-4bf1-9e74-3f905569d8c8",
   "metadata": {},
   "outputs": [],
   "source": [
    "import time\n",
    "from tqdm import tqdm\n",
    "\n",
    "def train(model, dataloader, criterion, optimizer, device):\n",
    "    model.train()\n",
    "    total_loss, correct, total = 0, 0, 0\n",
    "    start_time = time.time()\n",
    "\n",
    "    loop = tqdm(dataloader, desc=\"Training\", leave=False)\n",
    "    for images, labels in loop:\n",
    "        images, labels = images.to(device), labels.to(device)\n",
    "\n",
    "        optimizer.zero_grad()\n",
    "        outputs = model(images)\n",
    "        loss = criterion(outputs, labels)\n",
    "        loss.backward()\n",
    "        optimizer.step()\n",
    "\n",
    "        total_loss += loss.item() * images.size(0)\n",
    "        _, preds = outputs.max(1)\n",
    "        correct += (preds == labels).sum().item()\n",
    "        total += labels.size(0)\n",
    "\n",
    "        loop.set_postfix(loss=loss.item(), acc=100.0 * correct / total)\n",
    "\n",
    "    avg_loss = total_loss / total\n",
    "    accuracy = 100.0 * correct / total\n",
    "    elapsed = time.time() - start_time\n",
    "    return avg_loss, accuracy, elapsed\n",
    "\n",
    "def validate(model, dataloader, criterion, device):\n",
    "    model.eval()\n",
    "    total_loss, correct, total = 0, 0, 0\n",
    "    start_time = time.time()\n",
    "\n",
    "    with torch.no_grad():\n",
    "        for images, labels in tqdm(dataloader, desc=\"Validating\", leave=False):\n",
    "            images, labels = images.to(device), labels.to(device)\n",
    "\n",
    "            outputs = model(images)\n",
    "            loss = criterion(outputs, labels)\n",
    "\n",
    "            total_loss += loss.item() * images.size(0)\n",
    "            _, preds = outputs.max(1)\n",
    "            correct += (preds == labels).sum().item()\n",
    "            total += labels.size(0)\n",
    "\n",
    "    avg_loss = total_loss / total\n",
    "    accuracy = 100.0 * correct / total\n",
    "    elapsed = time.time() - start_time\n",
    "    return avg_loss, accuracy, elapsed\n"
   ]
  },
  {
   "cell_type": "code",
   "execution_count": 5,
   "id": "dcd0ad5c-a4a3-435b-b0bb-7df88dc3349b",
   "metadata": {
    "scrolled": true
   },
   "outputs": [
    {
     "name": "stdout",
     "output_type": "stream",
     "text": [
      "\n",
      "🔍 Running model: RegNetY-4G\n",
      "Epoch 1/5\n"
     ]
    },
    {
     "name": "stderr",
     "output_type": "stream",
     "text": [
      "                                                                               "
     ]
    },
    {
     "name": "stdout",
     "output_type": "stream",
     "text": [
      "Train Loss: 0.9926, Train Acc: 71.97%\n",
      "Val Loss:   0.6959, Val Acc:   77.60%\n",
      "Train Time: 24.22s, Val Time: 5.38s\n",
      "\n",
      "Epoch 2/5\n"
     ]
    },
    {
     "name": "stderr",
     "output_type": "stream",
     "text": [
      "                                                                               "
     ]
    },
    {
     "name": "stdout",
     "output_type": "stream",
     "text": [
      "Train Loss: 0.3831, Train Acc: 87.77%\n",
      "Val Loss:   0.6063, Val Acc:   81.12%\n",
      "Train Time: 24.67s, Val Time: 5.36s\n",
      "\n",
      "Epoch 3/5\n"
     ]
    },
    {
     "name": "stderr",
     "output_type": "stream",
     "text": [
      "                                                                                "
     ]
    },
    {
     "name": "stdout",
     "output_type": "stream",
     "text": [
      "Train Loss: 0.2301, Train Acc: 92.78%\n",
      "Val Loss:   0.7511, Val Acc:   77.94%\n",
      "Train Time: 24.65s, Val Time: 5.56s\n",
      "\n",
      "Epoch 4/5\n"
     ]
    },
    {
     "name": "stderr",
     "output_type": "stream",
     "text": [
      "                                                                                "
     ]
    },
    {
     "name": "stdout",
     "output_type": "stream",
     "text": [
      "Train Loss: 0.2045, Train Acc: 93.30%\n",
      "Val Loss:   0.6391, Val Acc:   80.04%\n",
      "Train Time: 24.57s, Val Time: 5.41s\n",
      "\n",
      "Epoch 5/5\n"
     ]
    },
    {
     "name": "stderr",
     "output_type": "stream",
     "text": [
      "                                                                                "
     ]
    },
    {
     "name": "stdout",
     "output_type": "stream",
     "text": [
      "Train Loss: 0.1652, Train Acc: 94.79%\n",
      "Val Loss:   0.6200, Val Acc:   82.61%\n",
      "Train Time: 24.69s, Val Time: 5.49s\n",
      "\n",
      "\n",
      "🔍 Running model: RegNetY-8G\n",
      "Epoch 1/5\n"
     ]
    },
    {
     "name": "stderr",
     "output_type": "stream",
     "text": [
      "                                                                               "
     ]
    },
    {
     "name": "stdout",
     "output_type": "stream",
     "text": [
      "Train Loss: 0.8523, Train Acc: 76.29%\n",
      "Val Loss:   0.6772, Val Acc:   77.81%\n",
      "Train Time: 25.01s, Val Time: 5.22s\n",
      "\n",
      "Epoch 2/5\n"
     ]
    },
    {
     "name": "stderr",
     "output_type": "stream",
     "text": [
      "                                                                                "
     ]
    },
    {
     "name": "stdout",
     "output_type": "stream",
     "text": [
      "Train Loss: 0.2762, Train Acc: 91.04%\n",
      "Val Loss:   0.8037, Val Acc:   76.79%\n",
      "Train Time: 24.92s, Val Time: 5.21s\n",
      "\n",
      "Epoch 3/5\n"
     ]
    },
    {
     "name": "stderr",
     "output_type": "stream",
     "text": [
      "                                                                                "
     ]
    },
    {
     "name": "stdout",
     "output_type": "stream",
     "text": [
      "Train Loss: 0.1725, Train Acc: 94.82%\n",
      "Val Loss:   0.8603, Val Acc:   77.94%\n",
      "Train Time: 25.26s, Val Time: 5.12s\n",
      "\n",
      "Epoch 4/5\n"
     ]
    },
    {
     "name": "stderr",
     "output_type": "stream",
     "text": [
      "                                                                                "
     ]
    },
    {
     "name": "stdout",
     "output_type": "stream",
     "text": [
      "Train Loss: 0.1686, Train Acc: 94.69%\n",
      "Val Loss:   0.5242, Val Acc:   84.10%\n",
      "Train Time: 25.44s, Val Time: 5.26s\n",
      "\n",
      "Epoch 5/5\n"
     ]
    },
    {
     "name": "stderr",
     "output_type": "stream",
     "text": [
      "                                                                                "
     ]
    },
    {
     "name": "stdout",
     "output_type": "stream",
     "text": [
      "Train Loss: 0.1164, Train Acc: 96.33%\n",
      "Val Loss:   0.6921, Val Acc:   83.42%\n",
      "Train Time: 25.01s, Val Time: 5.19s\n",
      "\n",
      "\n",
      "🔍 Running model: RegNetY-16G\n",
      "Epoch 1/5\n"
     ]
    },
    {
     "name": "stderr",
     "output_type": "stream",
     "text": [
      "                                                                               "
     ]
    },
    {
     "name": "stdout",
     "output_type": "stream",
     "text": [
      "Train Loss: 0.8276, Train Acc: 77.11%\n",
      "Val Loss:   1.1695, Val Acc:   66.78%\n",
      "Train Time: 26.57s, Val Time: 5.25s\n",
      "\n",
      "Epoch 2/5\n"
     ]
    },
    {
     "name": "stderr",
     "output_type": "stream",
     "text": [
      "                                                                               "
     ]
    },
    {
     "name": "stdout",
     "output_type": "stream",
     "text": [
      "Train Loss: 0.3247, Train Acc: 89.67%\n",
      "Val Loss:   0.8332, Val Acc:   77.06%\n",
      "Train Time: 26.46s, Val Time: 5.25s\n",
      "\n",
      "Epoch 3/5\n"
     ]
    },
    {
     "name": "stderr",
     "output_type": "stream",
     "text": [
      "                                                                                "
     ]
    },
    {
     "name": "stdout",
     "output_type": "stream",
     "text": [
      "Train Loss: 0.2225, Train Acc: 92.96%\n",
      "Val Loss:   0.6601, Val Acc:   80.99%\n",
      "Train Time: 26.39s, Val Time: 5.28s\n",
      "\n",
      "Epoch 4/5\n"
     ]
    },
    {
     "name": "stderr",
     "output_type": "stream",
     "text": [
      "                                                                                "
     ]
    },
    {
     "name": "stdout",
     "output_type": "stream",
     "text": [
      "Train Loss: 0.1373, Train Acc: 95.57%\n",
      "Val Loss:   0.5628, Val Acc:   85.25%\n",
      "Train Time: 26.35s, Val Time: 5.29s\n",
      "\n",
      "Epoch 5/5\n"
     ]
    },
    {
     "name": "stderr",
     "output_type": "stream",
     "text": [
      "                                                                                "
     ]
    },
    {
     "name": "stdout",
     "output_type": "stream",
     "text": [
      "Train Loss: 0.1713, Train Acc: 94.69%\n",
      "Val Loss:   0.7016, Val Acc:   81.80%\n",
      "Train Time: 26.19s, Val Time: 5.26s\n",
      "\n",
      "\n",
      "✅ RegNet Benchmark Summary:\n"
     ]
    },
    {
     "name": "stderr",
     "output_type": "stream",
     "text": []
    },
    {
     "data": {
      "text/html": [
       "<div>\n",
       "<style scoped>\n",
       "    .dataframe tbody tr th:only-of-type {\n",
       "        vertical-align: middle;\n",
       "    }\n",
       "\n",
       "    .dataframe tbody tr th {\n",
       "        vertical-align: top;\n",
       "    }\n",
       "\n",
       "    .dataframe thead th {\n",
       "        text-align: right;\n",
       "    }\n",
       "</style>\n",
       "<table border=\"1\" class=\"dataframe\">\n",
       "  <thead>\n",
       "    <tr style=\"text-align: right;\">\n",
       "      <th></th>\n",
       "      <th>method</th>\n",
       "      <th>image size</th>\n",
       "      <th>#params</th>\n",
       "      <th>FLOPs</th>\n",
       "      <th>throughput (image / s)</th>\n",
       "      <th>ImageNet top-1 acc.</th>\n",
       "    </tr>\n",
       "  </thead>\n",
       "  <tbody>\n",
       "    <tr>\n",
       "      <th>0</th>\n",
       "      <td>RegNetY-4G</td>\n",
       "      <td>224²</td>\n",
       "      <td>4M</td>\n",
       "      <td>0.4G</td>\n",
       "      <td>269.1</td>\n",
       "      <td>82.6</td>\n",
       "    </tr>\n",
       "    <tr>\n",
       "      <th>1</th>\n",
       "      <td>RegNetY-8G</td>\n",
       "      <td>224²</td>\n",
       "      <td>6M</td>\n",
       "      <td>0.8G</td>\n",
       "      <td>285.0</td>\n",
       "      <td>83.4</td>\n",
       "    </tr>\n",
       "    <tr>\n",
       "      <th>2</th>\n",
       "      <td>RegNetY-16G</td>\n",
       "      <td>224²</td>\n",
       "      <td>10M</td>\n",
       "      <td>1.7G</td>\n",
       "      <td>281.2</td>\n",
       "      <td>81.8</td>\n",
       "    </tr>\n",
       "  </tbody>\n",
       "</table>\n",
       "</div>"
      ],
      "text/plain": [
       "        method image size #params FLOPs  throughput (image / s)  \\\n",
       "0   RegNetY-4G       224²      4M  0.4G                   269.1   \n",
       "1   RegNetY-8G       224²      6M  0.8G                   285.0   \n",
       "2  RegNetY-16G       224²     10M  1.7G                   281.2   \n",
       "\n",
       "   ImageNet top-1 acc.  \n",
       "0                 82.6  \n",
       "1                 83.4  \n",
       "2                 81.8  "
      ]
     },
     "metadata": {},
     "output_type": "display_data"
    }
   ],
   "source": [
    "from torch import nn, optim\n",
    "import pandas as pd\n",
    "import time\n",
    "import warnings\n",
    "import contextlib\n",
    "import io\n",
    "from fvcore.nn import FlopCountAnalysis\n",
    "\n",
    "results = []\n",
    "num_epochs = 5\n",
    "learning_rate = 1e-3\n",
    "batch_size = 64\n",
    "num_workers = 0\n",
    "\n",
    "for model_name, config in regnety_models.items():\n",
    "    print(f\"\\n🔍 Running model: {model_name}\")\n",
    "\n",
    "    image_size = config[\"image_size\"]\n",
    "    train_loader, val_loader = get_loaders(data_root, image_size=image_size, batch_size=batch_size, num_workers=num_workers)\n",
    "\n",
    "    # Initialize model and classifier head\n",
    "    model = timm.create_model(config[\"timm_name\"], pretrained=True)\n",
    "    num_classes = len(train_loader.dataset.class_to_idx)\n",
    "    model.reset_classifier(num_classes)\n",
    "    model = model.to(device)\n",
    "\n",
    "    # Compute FLOPs using fvcore, suppressing warnings and stderr\n",
    "    sample_input = torch.randn(1, 3, image_size, image_size).to(device)\n",
    "    with warnings.catch_warnings():\n",
    "        warnings.simplefilter(\"ignore\")\n",
    "        with contextlib.redirect_stderr(io.StringIO()):\n",
    "            flops = FlopCountAnalysis(model, sample_input).total() / 1e9  # GFLOPs\n",
    "\n",
    "    # Optimizer and loss\n",
    "    optimizer = optim.AdamW(model.parameters(), lr=learning_rate)\n",
    "    criterion = nn.CrossEntropyLoss()\n",
    "\n",
    "    # Store epoch history\n",
    "    history = []\n",
    "\n",
    "    for epoch in range(num_epochs):\n",
    "        print(f\"Epoch {epoch+1}/{num_epochs}\")\n",
    "        \n",
    "        train_loss, train_acc, train_time = train(model, train_loader, criterion, optimizer, device)\n",
    "        val_loss, val_acc, val_time = validate(model, val_loader, criterion, device)\n",
    "\n",
    "        print(f\"Train Loss: {train_loss:.4f}, Train Acc: {train_acc:.2f}%\")\n",
    "        print(f\"Val Loss:   {val_loss:.4f}, Val Acc:   {val_acc:.2f}%\")\n",
    "        print(f\"Train Time: {train_time:.2f}s, Val Time: {val_time:.2f}s\\n\")\n",
    "\n",
    "        history.append((train_loss, train_acc, val_loss, val_acc, train_time, val_time))\n",
    "\n",
    "    # Final epoch results for reporting\n",
    "    final_metrics = history[-1]\n",
    "    params_m = round(sum(p.numel() for p in model.parameters()) / 1e6)  # Round to int M\n",
    "    flops_g = round(flops, 1)  # 0.4G format\n",
    "    throughput = round(len(val_loader.dataset) / final_metrics[5], 1)\n",
    "    top1_acc = round(final_metrics[3], 1)\n",
    "\n",
    "    results.append({\n",
    "        \"method\": model_name,\n",
    "        \"image size\": f\"{image_size}²\",\n",
    "        \"#params\": f\"{params_m}M\",\n",
    "        \"FLOPs\": f\"{flops_g}G\",\n",
    "        \"throughput (image / s)\": throughput,\n",
    "        \"ImageNet top-1 acc.\": top1_acc,\n",
    "    })\n",
    "\n",
    "# Final table\n",
    "results_df = pd.DataFrame(results)\n",
    "print(\"\\n✅ RegNet Benchmark Summary:\")\n",
    "display(results_df)\n"
   ]
  },
  {
   "cell_type": "code",
   "execution_count": null,
   "id": "7fb364c2-76c0-4936-8c54-209c45a8f4ac",
   "metadata": {},
   "outputs": [],
   "source": []
  }
 ],
 "metadata": {
  "kernelspec": {
   "display_name": "Python (ml-gpu)",
   "language": "python",
   "name": "ml-gpu"
  },
  "language_info": {
   "codemirror_mode": {
    "name": "ipython",
    "version": 3
   },
   "file_extension": ".py",
   "mimetype": "text/x-python",
   "name": "python",
   "nbconvert_exporter": "python",
   "pygments_lexer": "ipython3",
   "version": "3.10.16"
  }
 },
 "nbformat": 4,
 "nbformat_minor": 5
}
